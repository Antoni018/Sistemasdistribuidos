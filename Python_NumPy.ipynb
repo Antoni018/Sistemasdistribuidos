{
  "nbformat": 4,
  "nbformat_minor": 0,
  "metadata": {
    "colab": {
      "provenance": [],
      "authorship_tag": "ABX9TyPUJE0GtzEy5eIoc5L9XzPv",
      "include_colab_link": true
    },
    "kernelspec": {
      "name": "python3",
      "display_name": "Python 3"
    },
    "language_info": {
      "name": "python"
    }
  },
  "cells": [
    {
      "cell_type": "markdown",
      "metadata": {
        "id": "view-in-github",
        "colab_type": "text"
      },
      "source": [
        "<a href=\"https://colab.research.google.com/github/Antoni018/Sistemasdistribuidos/blob/main/Python_NumPy.ipynb\" target=\"_parent\"><img src=\"https://colab.research.google.com/assets/colab-badge.svg\" alt=\"Open In Colab\"/></a>"
      ]
    },
    {
      "cell_type": "code",
      "execution_count": 1,
      "metadata": {
        "colab": {
          "base_uri": "https://localhost:8080/"
        },
        "id": "F5BsVtiJ6_QL",
        "outputId": "62a441d7-d19c-4553-862d-6536570e4eba"
      },
      "outputs": [
        {
          "output_type": "stream",
          "name": "stdout",
          "text": [
            "1.25.2\n"
          ]
        }
      ],
      "source": [
        "# importar numpy y ver la version\n",
        "import numpy as np\n",
        "print(np.__version__)\n"
      ]
    },
    {
      "cell_type": "code",
      "source": [
        "# create 1d array of numbers from 0 to 9\n",
        "\n",
        "import numpy as np\n",
        "a = np.array([0,1,2,3,4,5,6,7,8,9])\n",
        "print(a)\n"
      ],
      "metadata": {
        "colab": {
          "base_uri": "https://localhost:8080/"
        },
        "id": "rQhd2nTR-x37",
        "outputId": "99ae9c90-23e8-4170-9d51-bbfcbbd8981a"
      },
      "execution_count": null,
      "outputs": [
        {
          "output_type": "stream",
          "name": "stdout",
          "text": [
            "[0 1 2 3 4 5 6 7 8 9]\n"
          ]
        }
      ]
    },
    {
      "cell_type": "code",
      "source": [
        "# create random vector of size 10 and replace the maximun value by 0\n",
        "\n",
        "import numpy as np\n",
        "\n",
        "Z = np.random.random(10)\n",
        "print(Z)\n",
        "Z[Z.argmax()] = 0\n",
        "print(Z)\n"
      ],
      "metadata": {
        "colab": {
          "base_uri": "https://localhost:8080/"
        },
        "id": "sC27yPjI_X-j",
        "outputId": "b9af3088-21a2-4a58-b85d-4514846ba20d"
      },
      "execution_count": 6,
      "outputs": [
        {
          "output_type": "stream",
          "name": "stdout",
          "text": [
            "[0.13328049 0.13788552 0.80807671 0.53666804 0.21192783 0.78033709\n",
            " 0.9070298  0.63848795 0.43554972 0.63769879]\n",
            "[0.13328049 0.13788552 0.80807671 0.53666804 0.21192783 0.78033709\n",
            " 0.         0.63848795 0.43554972 0.63769879]\n"
          ]
        }
      ]
    },
    {
      "cell_type": "code",
      "source": [
        "# print the number 8 from the array below:\n",
        "\n",
        "import numpy as np\n",
        "arr = np.array([[1,2,3,4,5],[6,7,8,9,10]])\n",
        "print(arr)\n",
        "print(arr[1,2])"
      ],
      "metadata": {
        "colab": {
          "base_uri": "https://localhost:8080/"
        },
        "id": "6Rjlny7-_6dr",
        "outputId": "f0bb5e07-f94d-4c0d-d7c9-e4566e63b208"
      },
      "execution_count": 20,
      "outputs": [
        {
          "output_type": "stream",
          "name": "stdout",
          "text": [
            "[[ 1  2  3  4  5]\n",
            " [ 6  7  8  9 10]]\n",
            "8\n"
          ]
        }
      ]
    },
    {
      "cell_type": "code",
      "source": [
        "# print the numbers [3,4,5] from the array below: arr=np.array([1,2,3,4,5,6,7])\n",
        "\n",
        "import numpy as np\n",
        "arr = np.array([1,2,3,4,5,6,7])\n",
        "print(arr)\n",
        "print(arr[2:5])\n"
      ],
      "metadata": {
        "colab": {
          "base_uri": "https://localhost:8080/"
        },
        "id": "x1YNJinQAh8r",
        "outputId": "8882c162-167f-43a4-eafa-d615ab7dbf38"
      },
      "execution_count": 8,
      "outputs": [
        {
          "output_type": "stream",
          "name": "stdout",
          "text": [
            "[1 2 3 4 5 6 7]\n",
            "[3 4 5]\n"
          ]
        }
      ]
    },
    {
      "cell_type": "code",
      "source": [
        "# print the last 4 numbers from the array below: arr=np.array([1,2,3,4,5,6,7])\n",
        "\n",
        "import numpy as np\n",
        "arr = np.array([1,2,3,4,5,6,7])\n",
        "print(arr)\n",
        "print(arr[-4:])\n"
      ],
      "metadata": {
        "colab": {
          "base_uri": "https://localhost:8080/"
        },
        "id": "e3BgonTCA7Z5",
        "outputId": "58a3898a-db2b-4a02-8f11-e96ef0e936b2"
      },
      "execution_count": 9,
      "outputs": [
        {
          "output_type": "stream",
          "name": "stdout",
          "text": [
            "[1 2 3 4 5 6 7]\n",
            "[4 5 6 7]\n"
          ]
        }
      ]
    },
    {
      "cell_type": "code",
      "source": [
        "# create a 3x3 numpy array of all true's\n",
        "\n",
        "import numpy as np\n",
        "arr = np.full((3, 3), True)\n",
        "print(arr)\n"
      ],
      "metadata": {
        "colab": {
          "base_uri": "https://localhost:8080/"
        },
        "id": "gn-xd9RwBVRC",
        "outputId": "9fb982ea-7a53-44b0-8464-aba268249917"
      },
      "execution_count": 10,
      "outputs": [
        {
          "output_type": "stream",
          "name": "stdout",
          "text": [
            "[[ True  True  True]\n",
            " [ True  True  True]\n",
            " [ True  True  True]]\n"
          ]
        }
      ]
    },
    {
      "cell_type": "code",
      "source": [
        "# extract all odd numbers from arr\n",
        "\n",
        "import numpy as np\n",
        "arr = np.array([0, 1, 2, 3, 4, 5, 6, 7, 8, 9])\n",
        "\n",
        "impares = arr[arr % 2 == 1]\n",
        "print(arr)\n",
        "print(impares)\n"
      ],
      "metadata": {
        "colab": {
          "base_uri": "https://localhost:8080/"
        },
        "id": "zcJEdmbaBgfJ",
        "outputId": "57da748c-029f-4d97-d06d-c06e65b422b5"
      },
      "execution_count": 11,
      "outputs": [
        {
          "output_type": "stream",
          "name": "stdout",
          "text": [
            "[0 1 2 3 4 5 6 7 8 9]\n",
            "[1 3 5 7 9]\n"
          ]
        }
      ]
    },
    {
      "cell_type": "code",
      "source": [
        "# create a vector with values ranging from 10 to 49\n",
        "\n",
        "import numpy as np\n",
        "vector = np.arange(10,50)\n",
        "print(vector)\n"
      ],
      "metadata": {
        "colab": {
          "base_uri": "https://localhost:8080/"
        },
        "id": "E3MJW_tuB2Ej",
        "outputId": "d150ce8e-fd22-4d13-c6ed-8f7e2b13eb66"
      },
      "execution_count": 12,
      "outputs": [
        {
          "output_type": "stream",
          "name": "stdout",
          "text": [
            "[10 11 12 13 14 15 16 17 18 19 20 21 22 23 24 25 26 27 28 29 30 31 32 33\n",
            " 34 35 36 37 38 39 40 41 42 43 44 45 46 47 48 49]\n"
          ]
        }
      ]
    },
    {
      "cell_type": "code",
      "source": [
        "# reverse a vector (first element becomes last)\n",
        "\n",
        "import numpy as np\n",
        "vector = np.arange(10,50)\n",
        "\n",
        "reversed_vector = vector[::-1]\n",
        "print(vector)\n",
        "print(reversed_vector)\n"
      ],
      "metadata": {
        "colab": {
          "base_uri": "https://localhost:8080/"
        },
        "id": "uSljx6vNCI7i",
        "outputId": "a31f4f46-8a8f-4640-8c80-1e916ff459b9"
      },
      "execution_count": 13,
      "outputs": [
        {
          "output_type": "stream",
          "name": "stdout",
          "text": [
            "[10 11 12 13 14 15 16 17 18 19 20 21 22 23 24 25 26 27 28 29 30 31 32 33\n",
            " 34 35 36 37 38 39 40 41 42 43 44 45 46 47 48 49]\n",
            "[49 48 47 46 45 44 43 42 41 40 39 38 37 36 35 34 33 32 31 30 29 28 27 26\n",
            " 25 24 23 22 21 20 19 18 17 16 15 14 13 12 11 10]\n"
          ]
        }
      ]
    },
    {
      "cell_type": "code",
      "source": [
        "# create a 10x10 array with random integer values and find the minium and maximun values\n",
        "\n",
        "import numpy as np\n",
        "arr = np.random.randint(100, size=(10, 10))\n",
        "\n",
        "min_value = np.min(arr)\n",
        "max_value = np.max(arr)\n",
        "\n",
        "print(arr)\n",
        "print(\"Minimum value:\", min_value)\n",
        "print(\"Maximum value:\", max_value)\n"
      ],
      "metadata": {
        "colab": {
          "base_uri": "https://localhost:8080/"
        },
        "id": "1OSxs2SGCnFo",
        "outputId": "eca2d920-8a28-4fda-911a-48e5286fee51"
      },
      "execution_count": 15,
      "outputs": [
        {
          "output_type": "stream",
          "name": "stdout",
          "text": [
            "[[57 61 46 33 89 25 72 52 44 39]\n",
            " [72  3  8 31 67 83  1 34 35 62]\n",
            " [60 30 85 50 71 58 75 45 59 39]\n",
            " [10 19 56 79 97  6 66 83 22 47]\n",
            " [ 5 68 15 47 91 84 24 97 11 62]\n",
            " [33 94 12 11 15 58  2 81 10 66]\n",
            " [16 44  6 59 37 39 68  6 37 83]\n",
            " [14 62 85 51 33 26 49 11 67 50]\n",
            " [36 27 60 36 30 26 79 15 49 33]\n",
            " [99 12 41 90 39 41 24 63 35 81]]\n",
            "Minimum value: 1\n",
            "Maximum value: 99\n"
          ]
        }
      ]
    },
    {
      "cell_type": "code",
      "source": [
        "# create a 3x3x3 array with random integer values\n",
        "\n",
        "import numpy as np\n",
        "arr = np.random.randint(100, size=(3, 3, 3))\n",
        "print(arr)\n"
      ],
      "metadata": {
        "colab": {
          "base_uri": "https://localhost:8080/"
        },
        "id": "ttNQNQZqDDVy",
        "outputId": "65501c63-1761-42e8-8fa1-b91740329d60"
      },
      "execution_count": 16,
      "outputs": [
        {
          "output_type": "stream",
          "name": "stdout",
          "text": [
            "[[[75 37 45]\n",
            "  [67 17 63]\n",
            "  [31 82 61]]\n",
            "\n",
            " [[28 55 73]\n",
            "  [49 10 63]\n",
            "  [93 87 72]]\n",
            "\n",
            " [[75 91  8]\n",
            "  [38 78 80]\n",
            "  [38 91 78]]]\n"
          ]
        }
      ]
    },
    {
      "cell_type": "code",
      "source": [
        "# replace all odd numbers in arr with -1\n",
        "\n",
        "arr[arr % 2 == 1] = -1\n",
        "print(arr)\n"
      ],
      "metadata": {
        "colab": {
          "base_uri": "https://localhost:8080/"
        },
        "id": "Ndy-qrSDDKbi",
        "outputId": "fdb45803-34b8-48d7-c310-2d360015719c"
      },
      "execution_count": 17,
      "outputs": [
        {
          "output_type": "stream",
          "name": "stdout",
          "text": [
            "[[[-1 -1 -1]\n",
            "  [-1 -1 -1]\n",
            "  [-1 82 -1]]\n",
            "\n",
            " [[28 -1 -1]\n",
            "  [-1 10 -1]\n",
            "  [-1 -1 72]]\n",
            "\n",
            " [[-1 -1  8]\n",
            "  [38 78 80]\n",
            "  [38 -1 78]]]\n"
          ]
        }
      ]
    },
    {
      "cell_type": "code",
      "source": [
        "# create an array of type float\n",
        "\n",
        "import numpy as np\n",
        "\n",
        "float_array = np.array([1.2, 3.4, 5.6, 7.8, 9.0], dtype=np.float32)\n",
        "print(float_array)\n"
      ],
      "metadata": {
        "colab": {
          "base_uri": "https://localhost:8080/"
        },
        "id": "yYDdL7DnDkPj",
        "outputId": "9e3060da-75ba-4dd5-9aa8-7e3959b0eafa"
      },
      "execution_count": 18,
      "outputs": [
        {
          "output_type": "stream",
          "name": "stdout",
          "text": [
            "[1.2 3.4 5.6 7.8 9. ]\n"
          ]
        }
      ]
    },
    {
      "cell_type": "code",
      "source": [
        "# convert a 1d array to a 2d array with 2 rows\n",
        "\n",
        "import numpy as np\n",
        "a = np.array([0,1,2,3,4,5,6,7,8,9])\n",
        "print(a)\n",
        "a = a.reshape(2,5)\n",
        "print(a)\n"
      ],
      "metadata": {
        "colab": {
          "base_uri": "https://localhost:8080/"
        },
        "id": "ANrxQqvaEjmi",
        "outputId": "936addbd-a4a4-4f75-ee5d-a0cd30d9e51f"
      },
      "execution_count": null,
      "outputs": [
        {
          "output_type": "stream",
          "name": "stdout",
          "text": [
            "[0 1 2 3 4 5 6 7 8 9]\n",
            "[[0 1 2 3 4]\n",
            " [5 6 7 8 9]]\n"
          ]
        }
      ]
    },
    {
      "cell_type": "code",
      "source": [
        "# How to find common values between two arrays?\n",
        "# Z1 = np.random.randint(0,10,10)\n",
        "# Z2 = np.random.randint(0,10,10)\n",
        "\n",
        "import numpy as np\n",
        "Z1 = np.random.randint(0,10,10)\n",
        "Z2 = np.random.randint(0,10,10)\n",
        "print(Z1)\n",
        "print(Z2)\n",
        "print(np.intersect1d(Z1,Z2))\n"
      ],
      "metadata": {
        "colab": {
          "base_uri": "https://localhost:8080/"
        },
        "id": "a8SW7MImb3Qh",
        "outputId": "3a3a1ea6-e05c-429b-ac20-c2afac0d41cd"
      },
      "execution_count": 22,
      "outputs": [
        {
          "output_type": "stream",
          "name": "stdout",
          "text": [
            "[6 9 4 9 7 2 1 6 0 0]\n",
            "[1 7 3 8 8 6 6 9 5 9]\n",
            "[1 6 7 9]\n"
          ]
        }
      ]
    },
    {
      "cell_type": "code",
      "source": [
        "# Consider two random array A and B, check if they are equal\n",
        "# A = np.random.randint(0,2,5)\n",
        "# B = np.random.randint(0,2,5)\n",
        "\n",
        "import numpy as np\n",
        "A = np.random.randint(0,2,5)\n",
        "B = np.random.randint(0,2,5)\n",
        "print(A)\n",
        "print(B)\n",
        "equal_arrays = np.array_equal(A,B)\n",
        "print(equal_arrays)\n"
      ],
      "metadata": {
        "colab": {
          "base_uri": "https://localhost:8080/"
        },
        "id": "CfJR5_YlcT9v",
        "outputId": "4e4fdedc-480d-4183-8767-28d9e07b2d2c"
      },
      "execution_count": 34,
      "outputs": [
        {
          "output_type": "stream",
          "name": "stdout",
          "text": [
            "[1 0 1 1 0]\n",
            "[1 0 1 1 0]\n",
            "True\n"
          ]
        }
      ]
    },
    {
      "cell_type": "code",
      "source": [
        "# Stack arrays a and b vertically\n",
        "\n",
        "import numpy as np\n",
        "a = np.arange(10).reshape(2,-1)\n",
        "b = np.repeat(1, 10).reshape(2,-1)\n",
        "\n",
        "print(a)\n",
        "print(b)\n",
        "\n",
        "c = np.vstack([a, b])\n",
        "print(c)\n",
        "\n"
      ],
      "metadata": {
        "colab": {
          "base_uri": "https://localhost:8080/"
        },
        "id": "3g9LT5GOcyZT",
        "outputId": "ed9df2f5-9198-4c77-eaed-12d24fd60c56"
      },
      "execution_count": 38,
      "outputs": [
        {
          "output_type": "stream",
          "name": "stdout",
          "text": [
            "[[0 1 2 3 4]\n",
            " [5 6 7 8 9]]\n",
            "[[1 1 1 1 1]\n",
            " [1 1 1 1 1]]\n",
            "[[0 1 2 3 4]\n",
            " [5 6 7 8 9]\n",
            " [1 1 1 1 1]\n",
            " [1 1 1 1 1]]\n"
          ]
        }
      ]
    },
    {
      "cell_type": "code",
      "source": [
        "# Stack arrays a and b vertically\n",
        "\n",
        "import numpy as np\n",
        "d = np.hstack([a,b])\n",
        "print(d)\n"
      ],
      "metadata": {
        "colab": {
          "base_uri": "https://localhost:8080/"
        },
        "id": "7TXiiTzBd9cP",
        "outputId": "f56d1dd2-a52b-42c0-ccf1-ef1f3151c607"
      },
      "execution_count": 39,
      "outputs": [
        {
          "output_type": "stream",
          "name": "stdout",
          "text": [
            "[[0 1 2 3 4 1 1 1 1 1]\n",
            " [5 6 7 8 9 1 1 1 1 1]]\n"
          ]
        }
      ]
    },
    {
      "cell_type": "code",
      "source": [
        "# Get all items between 5 and 10 from array tmp.\n",
        "\n",
        "import numpy as np\n",
        "tmp = np.array([2, 6, 1, 9, 10, 3, 27])\n",
        "tmp[(tmp >= 5) & (tmp <= 10)]\n"
      ],
      "metadata": {
        "colab": {
          "base_uri": "https://localhost:8080/"
        },
        "id": "lAM_DFf1ePv-",
        "outputId": "12ef5051-4048-4c13-a580-6c19b3f70b7b"
      },
      "execution_count": 40,
      "outputs": [
        {
          "output_type": "execute_result",
          "data": {
            "text/plain": [
              "array([ 6,  9, 10])"
            ]
          },
          "metadata": {},
          "execution_count": 40
        }
      ]
    },
    {
      "cell_type": "code",
      "source": [
        "# How to make a python function that handles scalars to work on numpy arrays?\n",
        "# Hint\n",
        "# Desired Output:\n",
        "# a = np.array([5, 7, 9, 8, 6, 4, 5])\n",
        "# b = np.array([6, 3, 4, 8, 9, 7, 1])\n",
        "# pair_max(a, b)\n",
        "# #> array([ 6.,  7.,  9.,  8.,  9.,  7.,  5.])\n",
        "\n",
        "import numpy as np\n",
        "def pair_max(x, y):\n",
        "  \"\"\"Get the maximum of two items\"\"\"\n",
        "  return np.where(x > y, x, y)\n",
        "\n",
        "a = np.array([5, 7, 9, 8, 6, 4, 5])\n",
        "b = np.array([6, 3, 4, 8, 9, 7, 1])\n",
        "pair_max(a, b)\n"
      ],
      "metadata": {
        "colab": {
          "base_uri": "https://localhost:8080/"
        },
        "id": "KHbRz_hDfNo0",
        "outputId": "abaebcad-0bb1-4d28-f045-bb14da2a6456"
      },
      "execution_count": 41,
      "outputs": [
        {
          "output_type": "execute_result",
          "data": {
            "text/plain": [
              "array([6, 7, 9, 8, 9, 7, 5])"
            ]
          },
          "metadata": {},
          "execution_count": 41
        }
      ]
    },
    {
      "cell_type": "code",
      "source": [
        "# Swap columns 1 and 2 in the array arr.\n",
        "# Hint\n",
        "# Desired Output:\n",
        "# [[0 2 1]\n",
        "#  [3 5 4]\n",
        "#  [6 8 7]]\n",
        "\n",
        "import numpy as np\n",
        "arr = np.arange(9).reshape(3,3)\n",
        "print(arr)\n",
        "arr[:, [1, 0]] = arr[:, [0, 1]]\n",
        "print(arr)\n"
      ],
      "metadata": {
        "colab": {
          "base_uri": "https://localhost:8080/"
        },
        "id": "FYJYr1PyfuV6",
        "outputId": "784439f9-6afe-476c-dc48-5ef4c2f2dfe0"
      },
      "execution_count": 42,
      "outputs": [
        {
          "output_type": "stream",
          "name": "stdout",
          "text": [
            "[[0 1 2]\n",
            " [3 4 5]\n",
            " [6 7 8]]\n",
            "[[1 0 2]\n",
            " [4 3 5]\n",
            " [7 6 8]]\n"
          ]
        }
      ]
    },
    {
      "cell_type": "code",
      "source": [
        "# Create a 2D array of shape 5x3 to contain random decimal numbers between 5 and 10.\n",
        "# Hint\n",
        "# The desired Output should be like the following one:\n",
        "#  [[ 8.50061025  9.10531502  6.85867783]\n",
        "#   [ 9.76262069  9.87717411  7.13466701]\n",
        "#   [ 7.48966403  8.33409158  6.16808631]\n",
        "#   [ 7.75010551  9.94535696  5.27373226]\n",
        "#   [ 8.0850361   5.56165518  7.31244004]]\n",
        "\n",
        "import numpy as np\n",
        "rand_arr = np.random.uniform(5,10, size=(5,3))\n",
        "print(rand_arr)\n"
      ],
      "metadata": {
        "colab": {
          "base_uri": "https://localhost:8080/"
        },
        "id": "kDJctgbkgQCe",
        "outputId": "dfe7881a-3819-4f8a-8444-630e5159e1f1"
      },
      "execution_count": 44,
      "outputs": [
        {
          "output_type": "stream",
          "name": "stdout",
          "text": [
            "[[7.44079493 7.25494133 5.13117208]\n",
            " [6.55701632 6.46452927 8.26920691]\n",
            " [8.67103156 5.89411062 6.22847498]\n",
            " [8.16043393 9.78900138 7.90480274]\n",
            " [6.15837021 8.49426901 7.35896456]]\n"
          ]
        }
      ]
    }
  ]
}